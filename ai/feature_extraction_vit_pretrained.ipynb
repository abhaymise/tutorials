{
  "nbformat": 4,
  "nbformat_minor": 0,
  "metadata": {
    "colab": {
      "provenance": [],
      "authorship_tag": "ABX9TyOXA5qzacRpJu2llyUJLZgh",
      "include_colab_link": true
    },
    "kernelspec": {
      "name": "python3",
      "display_name": "Python 3"
    },
    "language_info": {
      "name": "python"
    }
  },
  "cells": [
    {
      "cell_type": "markdown",
      "metadata": {
        "id": "view-in-github",
        "colab_type": "text"
      },
      "source": [
        "<a href=\"https://colab.research.google.com/github/abhaymise/tutorials/blob/main/ai/feature_extraction_vit_pretrained.ipynb\" target=\"_parent\"><img src=\"https://colab.research.google.com/assets/colab-badge.svg\" alt=\"Open In Colab\"/></a>"
      ]
    },
    {
      "cell_type": "code",
      "source": [
        "import torch\n",
        "# pip install torch torchvision transformers\n",
        "from transformers import ViTFeatureExtractor, ViTForImageClassification\n",
        "from PIL import Image\n",
        "import requests\n",
        "\n",
        "# Load pre-trained ViT model and feature extractor\n",
        "model_name = 'google/vit-base-patch16-224-in21k'  # Pre-trained ViT model\n",
        "feature_extractor = ViTFeatureExtractor.from_pretrained(model_name)\n",
        "\n",
        "# Load an example image\n",
        "image_url = 'https://storage.googleapis.com/sfr-vision-language-research/BAIR/ViT-B/imagenet/07179.jpg'\n",
        "image = Image.open(requests.get(image_url, stream=True).raw)\n",
        "\n",
        "# Preprocess the image and extract features from intermediate layer\n",
        "inputs = feature_extractor(images=image, return_tensors='pt')\n",
        "outputs = model(**inputs)\n",
        "\n",
        "# Choose the intermediate layer (adjust this based on the model architecture)\n",
        "intermediate_layer_output = outputs.hidden_states[7]  # Replace with the desired layer index\n",
        "\n",
        "# You can use these features for downstream tasks or analysis\n",
        "print(intermediate_layer_output.shape)\n"
      ],
      "metadata": {
        "id": "Vioe91kufO_I"
      },
      "execution_count": null,
      "outputs": []
    }
  ]
}